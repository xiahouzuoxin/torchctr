{
 "cells": [
  {
   "cell_type": "code",
   "execution_count": 1,
   "metadata": {},
   "outputs": [],
   "source": [
    "%load_ext autoreload\n",
    "%autoreload 2"
   ]
  },
  {
   "cell_type": "code",
   "execution_count": 2,
   "metadata": {},
   "outputs": [],
   "source": [
    "torchctr_root = '../'\n",
    "\n",
    "import sys\n",
    "sys.path.append(torchctr_root)"
   ]
  },
  {
   "cell_type": "code",
   "execution_count": 3,
   "metadata": {},
   "outputs": [],
   "source": [
    "import torch"
   ]
  },
  {
   "cell_type": "code",
   "execution_count": 46,
   "metadata": {},
   "outputs": [
    {
     "name": "stdout",
     "output_type": "stream",
     "text": [
      "tensor(0.4620) tensor(0.4719) tensor(0.3243)\n"
     ]
    }
   ],
   "source": [
    "from torchctr.losses import pairwise_loss_with_logits\n",
    "\n",
    "# Test pairwise_loss_with_logits\n",
    "logits = torch.tensor([[1.0], [3.0], [5.0], [8.]])\n",
    "labels = torch.tensor([[0], [1], [0], [2]])\n",
    "loss1 = pairwise_loss_with_logits(logits, labels)\n",
    "loss2 = pairwise_loss_with_logits(logits, labels, weight='linear')\n",
    "loss3 = pairwise_loss_with_logits(logits, labels, weight='log')\n",
    "print(loss1, loss2, loss3)"
   ]
  },
  {
   "cell_type": "code",
   "execution_count": 48,
   "metadata": {},
   "outputs": [
    {
     "name": "stdout",
     "output_type": "stream",
     "text": [
      "tensor(0.7206) tensor(1.0476)\n"
     ]
    }
   ],
   "source": [
    "from torchctr.losses import dfm_loss\n",
    "\n",
    "# Test dfm_loss\n",
    "# dfm_loss(input: torch.Tensor, target: torch.Tensor, \n",
    "#                     dfm_logits: torch.Tensor, dfm_elapsed: torch.Tensor, \n",
    "#                     reduction='mean', weight=None)\n",
    "\n",
    "input = torch.tensor([[0.1], [0.2], [0.3], [0.4]])\n",
    "target = torch.tensor([[0], [1], [0], [1]])\n",
    "dfm_logits = torch.tensor([[0.1], [0.2], [0.3], [0.4]])\n",
    "dfm_elapsed = torch.tensor([[0.1], [0.2], [0.3], [0.4]])\n",
    "weight = torch.tensor([[1.0], [2.0], [3.0], [0.5]])\n",
    "loss1 = dfm_loss(input, target, dfm_logits, dfm_elapsed)\n",
    "loss2 = dfm_loss(input, target, dfm_logits, dfm_elapsed, weight=weight)\n",
    "print(loss1, loss2)"
   ]
  },
  {
   "cell_type": "code",
   "execution_count": null,
   "metadata": {},
   "outputs": [],
   "source": []
  }
 ],
 "metadata": {
  "kernelspec": {
   "display_name": "base",
   "language": "python",
   "name": "python3"
  },
  "language_info": {
   "codemirror_mode": {
    "name": "ipython",
    "version": 3
   },
   "file_extension": ".py",
   "mimetype": "text/x-python",
   "name": "python",
   "nbconvert_exporter": "python",
   "pygments_lexer": "ipython3",
   "version": "3.10.8"
  }
 },
 "nbformat": 4,
 "nbformat_minor": 2
}
